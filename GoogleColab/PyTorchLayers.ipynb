{
  "nbformat": 4,
  "nbformat_minor": 0,
  "metadata": {
    "colab": {
      "provenance": []
    },
    "kernelspec": {
      "name": "python3",
      "display_name": "Python 3"
    },
    "language_info": {
      "name": "python"
    }
  },
  "cells": [
    {
      "cell_type": "markdown",
      "source": [
        "Convolution layer\n",
        "\n",
        "Conv1d\n"
      ],
      "metadata": {
        "id": "p6b0-yIyGKM7"
      }
    },
    {
      "cell_type": "code",
      "source": [
        "import torch\n",
        "\n",
        "m = torch.nn.Conv1d(16, 33, 3, stride=2)\n",
        "input = torch.randn(20, 16, 50)\n",
        "\n",
        "print (input)\n",
        "\n",
        "output = m(input)\n",
        "\n",
        "print (output)"
      ],
      "metadata": {
        "id": "4wTQ7TGxGoXD"
      },
      "execution_count": null,
      "outputs": []
    },
    {
      "cell_type": "markdown",
      "source": [
        "Linear Layer\n",
        "\n",
        "Linear"
      ],
      "metadata": {
        "id": "PszlwfGVNnTp"
      }
    },
    {
      "cell_type": "code",
      "source": [
        "\n",
        "import torch\n",
        "\n",
        "print (\"Linear\")\n",
        "\n",
        "# Linear\n",
        "lin = torch.nn.Linear(3, 2)\n",
        "x = torch.rand(1, 3)\n",
        "print('Input:')\n",
        "print(x)\n",
        "\n",
        "print('\\n\\nWeight and Bias parameters:')\n",
        "for param in lin.parameters():\n",
        "    print(param)\n",
        "\n",
        "y = lin(x)\n",
        "print('\\n\\nOutput:')\n",
        "print(y)\n"
      ],
      "metadata": {
        "id": "FkiRU2h9Nt6_"
      },
      "execution_count": null,
      "outputs": []
    },
    {
      "cell_type": "markdown",
      "source": [
        "Pooling Layer\n",
        "\n",
        "MaxPool2d  Layer"
      ],
      "metadata": {
        "id": "TC1dA_MNODqp"
      }
    },
    {
      "cell_type": "code",
      "source": [
        "my_tensor = torch.rand(1, 16, 3)\n",
        "print(my_tensor)\n",
        "\n",
        "maxpool_layer = torch.nn.MaxPool2d(3)\n",
        "print(maxpool_layer(my_tensor))\n",
        "\n",
        "#NOTE: Min Pool Level\n",
        "#print(-maxpool_layer(-my_tensor))\n"
      ],
      "metadata": {
        "colab": {
          "base_uri": "https://localhost:8080/"
        },
        "id": "vr20IIdEOMPG",
        "outputId": "f0dbd1d9-88bd-49fa-dd06-ce9c40121fb5"
      },
      "execution_count": 10,
      "outputs": [
        {
          "output_type": "stream",
          "name": "stdout",
          "text": [
            "tensor([[[0.5809, 0.8135, 0.9605],\n",
            "         [0.7437, 0.2494, 0.4112],\n",
            "         [0.5887, 0.4306, 0.6768],\n",
            "         [0.4875, 0.7613, 0.5829],\n",
            "         [0.5578, 0.5473, 0.1903],\n",
            "         [0.8960, 0.3328, 0.0662],\n",
            "         [0.1693, 0.4749, 0.2742],\n",
            "         [0.7040, 0.1388, 0.3305],\n",
            "         [0.3627, 0.8149, 0.1703],\n",
            "         [0.6237, 0.9399, 0.8557],\n",
            "         [0.3064, 0.5819, 0.7411],\n",
            "         [0.3607, 0.1304, 0.3433],\n",
            "         [0.2631, 0.4576, 0.7623],\n",
            "         [0.5863, 0.2018, 0.3522],\n",
            "         [0.3340, 0.1237, 0.2581],\n",
            "         [0.1295, 0.5262, 0.5606]]])\n",
            "tensor([[[0.9605],\n",
            "         [0.8960],\n",
            "         [0.8149],\n",
            "         [0.9399],\n",
            "         [0.7623]]])\n"
          ]
        }
      ]
    },
    {
      "cell_type": "markdown",
      "source": [
        "A Normalization Layer"
      ],
      "metadata": {
        "id": "EEAs4wx6OjrS"
      }
    },
    {
      "cell_type": "code",
      "source": [
        "my_tensor = torch.rand(1, 4, 4) * 20 + 5\n",
        "print(my_tensor)\n",
        "\n",
        "print(my_tensor.mean())\n",
        "\n",
        "norm_layer = torch.nn.BatchNorm1d(4)\n",
        "normed_tensor = norm_layer(my_tensor)\n",
        "print(normed_tensor)\n",
        "\n",
        "print(normed_tensor.mean())\n",
        "\n"
      ],
      "metadata": {
        "id": "xy8yceddOok1"
      },
      "execution_count": null,
      "outputs": []
    },
    {
      "cell_type": "markdown",
      "source": [
        "A Dropout Layer"
      ],
      "metadata": {
        "id": "Oto6FeO7OyD8"
      }
    },
    {
      "cell_type": "code",
      "source": [
        "my_tensor = torch.rand(1, 4, 4)\n",
        "\n",
        "dropout = torch.nn.Dropout(p=0.5)\n",
        "print(dropout(my_tensor))\n",
        "print(dropout(my_tensor))\n"
      ],
      "metadata": {
        "id": "POCBV94LO1KD"
      },
      "execution_count": null,
      "outputs": []
    }
  ]
}