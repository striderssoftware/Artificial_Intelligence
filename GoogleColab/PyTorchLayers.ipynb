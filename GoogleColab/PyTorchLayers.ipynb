{
  "nbformat": 4,
  "nbformat_minor": 0,
  "metadata": {
    "colab": {
      "provenance": []
    },
    "kernelspec": {
      "name": "python3",
      "display_name": "Python 3"
    },
    "language_info": {
      "name": "python"
    }
  },
  "cells": [
    {
      "cell_type": "markdown",
      "source": [
        "Convolution layer\n",
        "\n",
        "Conv1d\n"
      ],
      "metadata": {
        "id": "p6b0-yIyGKM7"
      }
    },
    {
      "cell_type": "code",
      "source": [
        "import torch\n",
        "\n",
        "m = torch.nn.Conv1d(16, 33, 3, stride=2)\n",
        "input = torch.randn(20, 16, 50)\n",
        "\n",
        "print (input)\n",
        "\n",
        "output = m(input)\n",
        "\n",
        "print (output)"
      ],
      "metadata": {
        "id": "4wTQ7TGxGoXD"
      },
      "execution_count": null,
      "outputs": []
    },
    {
      "cell_type": "markdown",
      "source": [
        "Linear Layer\n",
        "\n",
        "Linear"
      ],
      "metadata": {
        "id": "PszlwfGVNnTp"
      }
    },
    {
      "cell_type": "code",
      "source": [
        "\n",
        "import torch\n",
        "\n",
        "print (\"Linear\")\n",
        "\n",
        "# Linear\n",
        "lin = torch.nn.Linear(3, 2)\n",
        "x = torch.rand(1, 3)\n",
        "print('Input:')\n",
        "print(x)\n",
        "\n",
        "print('\\n\\nWeight and Bias parameters:')\n",
        "for param in lin.parameters():\n",
        "    print(param)\n",
        "\n",
        "y = lin(x)\n",
        "print('\\n\\nOutput:')\n",
        "print(y)\n"
      ],
      "metadata": {
        "id": "FkiRU2h9Nt6_"
      },
      "execution_count": null,
      "outputs": []
    },
    {
      "cell_type": "markdown",
      "source": [
        "Pooling Layer\n",
        "\n",
        "MaxPool2d"
      ],
      "metadata": {
        "id": "TC1dA_MNODqp"
      }
    },
    {
      "cell_type": "code",
      "source": [
        "my_tensor = torch.rand(1, 16, 3)\n",
        "print(my_tensor)\n",
        "\n",
        "maxpool_layer = torch.nn.MaxPool2d(3)\n",
        "print(maxpool_layer(my_tensor))\n",
        "\n",
        "#NOTE: Min Pool Level\n",
        "#print(-maxpool_layer(-my_tensor))\n"
      ],
      "metadata": {
        "id": "vr20IIdEOMPG"
      },
      "execution_count": null,
      "outputs": []
    },
    {
      "cell_type": "markdown",
      "source": [
        "Normalization Layer\n",
        "\n",
        "BatchNorm1d"
      ],
      "metadata": {
        "id": "EEAs4wx6OjrS"
      }
    },
    {
      "cell_type": "code",
      "source": [
        "my_tensor = torch.rand(1, 4, 4) * 20 + 5\n",
        "print(my_tensor)\n",
        "\n",
        "print(my_tensor.mean())\n",
        "\n",
        "norm_layer = torch.nn.BatchNorm1d(4)\n",
        "normed_tensor = norm_layer(my_tensor)\n",
        "print(normed_tensor)\n",
        "\n",
        "print(normed_tensor.mean())\n",
        "\n"
      ],
      "metadata": {
        "id": "xy8yceddOok1"
      },
      "execution_count": null,
      "outputs": []
    },
    {
      "cell_type": "markdown",
      "source": [
        "Dropout Layer\n",
        "\n",
        "Dropout"
      ],
      "metadata": {
        "id": "Oto6FeO7OyD8"
      }
    },
    {
      "cell_type": "code",
      "source": [
        "my_tensor = torch.rand(1, 4, 4)\n",
        "\n",
        "dropout = torch.nn.Dropout(p=0.5)\n",
        "print(dropout(my_tensor))\n",
        "print(dropout(my_tensor))\n"
      ],
      "metadata": {
        "id": "POCBV94LO1KD"
      },
      "execution_count": null,
      "outputs": []
    },
    {
      "cell_type": "markdown",
      "source": [
        "Non-linear Activations\n",
        "\n",
        "LeakyReLU\n",
        "\n",
        "LeakyReLU(x)=max(0,x)+negative_slope∗min(0,x)"
      ],
      "metadata": {
        "id": "ORnoHrNTN6GL"
      }
    },
    {
      "cell_type": "code",
      "source": [
        "m = torch.nn.LeakyReLU(0.1)\n",
        "input = torch.randn(2)\n",
        "print (input)\n",
        "output = m(input)\n",
        "\n",
        "print (output)"
      ],
      "metadata": {
        "id": "Jl2-E5IFOGK6"
      },
      "execution_count": null,
      "outputs": []
    },
    {
      "cell_type": "markdown",
      "source": [
        "Padding Layer\n",
        "\n",
        "ReflectionPad1d"
      ],
      "metadata": {
        "id": "4ZJKI9dqPOmz"
      }
    },
    {
      "cell_type": "code",
      "source": [
        "m = torch.nn.ReflectionPad1d(2)\n",
        "input = torch.arange(8, dtype=torch.float).reshape(1, 2, 4)\n",
        "print (input)\n",
        "\n",
        "m(input)\n",
        "\n",
        "m = torch.nn.ReflectionPad1d((3, 1))\n",
        "print (m(input))\n"
      ],
      "metadata": {
        "id": "mA0XbvEQPkiZ"
      },
      "execution_count": null,
      "outputs": []
    },
    {
      "cell_type": "markdown",
      "source": [
        "Non-linear Activations\n",
        "\n",
        "Softmax"
      ],
      "metadata": {
        "id": "CX9TLqp5Qkbc"
      }
    },
    {
      "cell_type": "code",
      "source": [
        "m = torch.nn.Softmax(dim=1)\n",
        "input = torch.randn(2, 3)\n",
        "print (input)\n",
        "output = m(input)\n",
        "\n",
        "print (output)"
      ],
      "metadata": {
        "id": "qWLyqTc2QtXM"
      },
      "execution_count": null,
      "outputs": []
    },
    {
      "cell_type": "markdown",
      "source": [
        "Normalization Layer\n",
        "\n",
        "BatchNorm1d"
      ],
      "metadata": {
        "id": "PVuspxaiRfCk"
      }
    },
    {
      "cell_type": "code",
      "source": [
        "# With Learnable Parameters\n",
        "m = torch.nn.BatchNorm1d(100)\n",
        "\n",
        "# Without Learnable Parameters\n",
        "# m = torch.nn.BatchNorm1d(100, affine=False)\n",
        "\n",
        "input = torch.randn(20, 100)\n",
        "output = m(input)\n",
        "\n",
        "print (input)\n",
        "print (output)"
      ],
      "metadata": {
        "id": "tJMdGAuKRnfs"
      },
      "execution_count": null,
      "outputs": []
    },
    {
      "cell_type": "markdown",
      "source": [
        "Recurrent Layer\n",
        "\n",
        "RNN"
      ],
      "metadata": {
        "id": "ujD4n0KcSaUP"
      }
    },
    {
      "cell_type": "code",
      "source": [
        "rnn = torch.nn.RNN(10, 20, 2)\n",
        "input = torch.randn(5, 3, 10)\n",
        "h0 = torch.randn(2, 3, 20)\n",
        "output, hn = rnn(input, h0)\n",
        "\n",
        "print (input)\n",
        "print (output)"
      ],
      "metadata": {
        "id": "mFXZy6QtSqQa"
      },
      "execution_count": null,
      "outputs": []
    },
    {
      "cell_type": "markdown",
      "source": [
        "Transform Layer\n",
        "\n",
        "TransformerEncoderLayer"
      ],
      "metadata": {
        "id": "T2gHECQNTJ6M"
      }
    },
    {
      "cell_type": "code",
      "source": [
        "encoder_layer = torch.nn.TransformerEncoderLayer(d_model=512, nhead=8)\n",
        "src = torch.rand(10, 32, 512)\n",
        "out = encoder_layer(src)\n",
        "\n",
        "# Alternatively, when batch_first is True:\n",
        "encoder_layer = torch.nn.TransformerEncoderLayer(d_model=512, nhead=8, batch_first=True)\n",
        "src = torch.rand(32, 10, 512)\n",
        "out = encoder_layer(src)\n",
        "\n",
        "print (src)\n",
        "print (out)"
      ],
      "metadata": {
        "id": "eKQvPXaLTSkg"
      },
      "execution_count": null,
      "outputs": []
    },
    {
      "cell_type": "markdown",
      "source": [
        "Sparse Layer\n",
        "\n",
        "Embedding"
      ],
      "metadata": {
        "id": "XgsNHKyjUith"
      }
    },
    {
      "cell_type": "code",
      "source": [
        "# an Embedding module containing 10 tensors of size 3\n",
        "embedding = torch.nn.Embedding(10, 3)\n",
        "# a batch of 2 samples of 4 indices each\n",
        "input = torch.LongTensor([[1, 2, 4, 5], [4, 3, 2, 9]])\n",
        "embedding(input)\n",
        "\n",
        "# example with padding_idx\n",
        "embedding = torch.nn.Embedding(10, 3, padding_idx=0)\n",
        "input = torch.LongTensor([[0, 2, 0, 5]])\n",
        "embedding(input)\n",
        "\n",
        "# example of changing `pad` vector\n",
        "padding_idx = 0\n",
        "embedding = torch.nn.Embedding(3, 3, padding_idx=padding_idx)\n",
        "embedding.weight\n",
        "\n",
        "with torch.no_grad():\n",
        "  embedding.weight[padding_idx] = torch.ones(3)\n",
        "embedding.weight\n",
        "\n",
        "\n"
      ],
      "metadata": {
        "id": "Ql13jDUvUofv"
      },
      "execution_count": null,
      "outputs": []
    },
    {
      "cell_type": "markdown",
      "source": [
        "Distance Function\n",
        "\n",
        "PairwiseDistance"
      ],
      "metadata": {
        "id": "meDX9vTPV-mv"
      }
    },
    {
      "cell_type": "code",
      "source": [
        "pdist = nn.PairwiseDistance(p=2)\n",
        "input1 = torch.randn(100, 128)\n",
        "input2 = torch.randn(100, 128)\n",
        "output = pdist(input1, input2)\n",
        "\n",
        "print (input1)\n",
        "print (input2)\n",
        "print (output)\n"
      ],
      "metadata": {
        "id": "04QO6zxhWHqm"
      },
      "execution_count": null,
      "outputs": []
    },
    {
      "cell_type": "markdown",
      "source": [
        "Loss Function\n",
        "\n",
        "CrossEntropyLoss"
      ],
      "metadata": {
        "id": "QZWi6BMSWdhu"
      }
    },
    {
      "cell_type": "code",
      "source": [
        "# Example of target with class indices\n",
        "loss = nn.CrossEntropyLoss()\n",
        "input = torch.randn(3, 5, requires_grad=True)\n",
        "target = torch.empty(3, dtype=torch.long).random_(5)\n",
        "output = loss(input, target)\n",
        "output.backward()\n",
        "\n",
        "print (input)\n",
        "print (output)\n",
        "\n",
        "# Example of target with class probabilities\n",
        "input = torch.randn(3, 5, requires_grad=True)\n",
        "target = torch.randn(3, 5).softmax(dim=1)\n",
        "output = loss(input, target)\n",
        "output.backward()\n",
        "\n",
        "print (input)\n",
        "print (output)"
      ],
      "metadata": {
        "colab": {
          "base_uri": "https://localhost:8080/"
        },
        "id": "N4hHx6xXWmp7",
        "outputId": "ca913987-39cf-44c3-d903-437730762bac"
      },
      "execution_count": 40,
      "outputs": [
        {
          "output_type": "stream",
          "name": "stdout",
          "text": [
            "tensor([[ 0.3041,  0.9591, -0.4455,  0.1702, -0.2489],\n",
            "        [ 2.2747,  0.2080,  0.2702,  0.8899,  0.9871],\n",
            "        [-1.0267,  1.0280,  0.0753,  0.3631,  0.4240]], requires_grad=True)\n",
            "tensor(0.8167, grad_fn=<NllLossBackward0>)\n",
            "tensor([[ 0.2523,  0.2121, -0.1446,  0.2636,  0.0941],\n",
            "        [-0.4077, -0.2790, -1.3688,  0.9819,  0.7888],\n",
            "        [-0.3744,  0.1711, -1.8125, -0.5757, -0.7586]], requires_grad=True)\n",
            "tensor(1.7822, grad_fn=<DivBackward1>)\n"
          ]
        }
      ]
    },
    {
      "cell_type": "markdown",
      "source": [
        "Vision Layer\n",
        "\n",
        "PixelShuffle"
      ],
      "metadata": {
        "id": "zMAtcxtbXEsr"
      }
    },
    {
      "cell_type": "code",
      "source": [
        "pixel_shuffle = torch.nn.PixelShuffle(3)\n",
        "input = torch.randn(1, 9, 4, 4)\n",
        "print (input.size())\n",
        "output = pixel_shuffle(input)\n",
        "print(output.size())\n"
      ],
      "metadata": {
        "id": "zla_ggH6XPxC"
      },
      "execution_count": null,
      "outputs": []
    },
    {
      "cell_type": "markdown",
      "source": [
        "Shuffle Layer\n",
        "\n",
        "ChannelShuffle"
      ],
      "metadata": {
        "id": "bzLxE0clXw07"
      }
    },
    {
      "cell_type": "code",
      "source": [
        "channel_shuffle = torch.nn.ChannelShuffle(2)\n",
        "input = torch.randn(1, 4, 2, 2)\n",
        "print(input)\n",
        "\n",
        "output = channel_shuffle(input)\n",
        "print(output)\n"
      ],
      "metadata": {
        "id": "klWMuALcX46M"
      },
      "execution_count": null,
      "outputs": []
    },
    {
      "cell_type": "markdown",
      "source": [
        "DataParallel Layer\n",
        "\n",
        "DataParallel"
      ],
      "metadata": {
        "id": "1lG4DOkiYL7-"
      }
    },
    {
      "cell_type": "code",
      "source": [
        "net = torch.nn.DataParallel(model, device_ids=[0, 1, 2])\n",
        "output = net(input_var)  # input_var can be on any device, including CPU\n",
        "\n"
      ],
      "metadata": {
        "id": "8h2B6nqCYS-l"
      },
      "execution_count": null,
      "outputs": []
    },
    {
      "cell_type": "markdown",
      "source": [
        "Utilities\n",
        "\n",
        "spectral_norm"
      ],
      "metadata": {
        "id": "J8eidPeOYj4T"
      }
    },
    {
      "cell_type": "code",
      "source": [
        "m = torch.nn.utils.spectral_norm(nn.Linear(20, 40))\n",
        "\n",
        "m.weight_u.size()\n"
      ],
      "metadata": {
        "colab": {
          "base_uri": "https://localhost:8080/"
        },
        "id": "alSInpGmZPkl",
        "outputId": "faddc47c-ab72-472c-f858-94dfdc147a35"
      },
      "execution_count": 46,
      "outputs": [
        {
          "output_type": "execute_result",
          "data": {
            "text/plain": [
              "torch.Size([40])"
            ]
          },
          "metadata": {},
          "execution_count": 46
        }
      ]
    }
  ]
}