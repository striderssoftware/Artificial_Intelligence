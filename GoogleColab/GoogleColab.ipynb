# Keras Start Notebook

This notebook contains the basic setup for Keras.

## Import Libraries

```python
import keras
from keras.models import Sequential
from keras.layers import Dense, Dropout
```

## Sample Model

```python
model = Sequential()
model.add(Dense(64, activation='relu', input_shape=(input_dim,)))
model.add(Dropout(0.5))
model.add(Dense(10, activation='softmax'))
```

## Compile Model

```python
model.compile(loss='categorical_crossentropy', optimizer='adam', metrics=['accuracy'])
```

## Train Model

```python
model.fit(x_train, y_train, epochs=10, batch_size=32)
```
